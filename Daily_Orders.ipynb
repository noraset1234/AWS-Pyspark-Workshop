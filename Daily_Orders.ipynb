{
	"metadata": {
		"kernelspec": {
			"name": "glue_pyspark",
			"display_name": "Glue PySpark",
			"language": "python"
		},
		"language_info": {
			"name": "Python_Glue_Session",
			"mimetype": "text/x-python",
			"codemirror_mode": {
				"name": "python",
				"version": 3
			},
			"pygments_lexer": "python3",
			"file_extension": ".py"
		}
	},
	"nbformat_minor": 4,
	"nbformat": 4,
	"cells": [
		{
			"cell_type": "markdown",
			"source": "# AWS Glue Studio Notebook\n##### You are now running a AWS Glue Studio notebook; To start using your notebook you need to start an AWS Glue Interactive Session.\n",
			"metadata": {
				"editable": true,
				"trusted": true
			}
		},
		{
			"cell_type": "markdown",
			"source": "#### Optional: Run this cell to see available notebook commands (\"magics\").\n",
			"metadata": {
				"editable": true,
				"trusted": true
			}
		},
		{
			"cell_type": "code",
			"source": "%help",
			"metadata": {
				"editable": true,
				"trusted": true
			},
			"execution_count": null,
			"outputs": []
		},
		{
			"cell_type": "markdown",
			"source": "####  Run this cell to set up and start your interactive session.\n",
			"metadata": {
				"editable": true,
				"trusted": true
			}
		},
		{
			"cell_type": "code",
			"source": "%idle_timeout 2880\n%glue_version 3.0\n%worker_type G.1X\n%number_of_workers 5\n\nimport sys\nfrom awsglue.transforms import *\nfrom awsglue.utils import getResolvedOptions\nfrom pyspark.context import SparkContext\nfrom awsglue.context import GlueContext\nfrom awsglue.job import Job\n  \nsc = SparkContext.getOrCreate()\nglueContext = GlueContext(sc)\nspark = glueContext.spark_session\njob = Job(glueContext)",
			"metadata": {
				"editable": true,
				"trusted": true
			},
			"execution_count": 1,
			"outputs": [
				{
					"name": "stdout",
					"text": "Welcome to the Glue Interactive Sessions Kernel\nFor more information on available magic commands, please type %help in any new cell.\n\nPlease view our Getting Started page to access the most up-to-date information on the Interactive Sessions kernel: https://docs.aws.amazon.com/glue/latest/dg/interactive-sessions.html\nInstalled kernel version: 0.37.3 \nCurrent idle_timeout is 2800 minutes.\nidle_timeout has been set to 2880 minutes.\nSetting Glue version to: 3.0\nPrevious worker type: G.1X\nSetting new worker type to: G.1X\nPrevious number of workers: 5\nSetting new number of workers to: 5\nAuthenticating with environment variables and user-defined glue_role_arn: arn:aws:iam::653538097121:role/Glue\nTrying to create a Glue session for the kernel.\nWorker Type: G.1X\nNumber of Workers: 5\nSession ID: 09e07858-fd0f-41e4-b3fc-fc3949f1f0d9\nJob Type: glueetl\nApplying the following default arguments:\n--glue_kernel_version 0.37.3\n--enable-glue-datacatalog true\nWaiting for session 09e07858-fd0f-41e4-b3fc-fc3949f1f0d9 to get into ready status...\nSession 09e07858-fd0f-41e4-b3fc-fc3949f1f0d9 has been created.\n\n",
					"output_type": "stream"
				}
			]
		},
		{
			"cell_type": "markdown",
			"source": "# 1. Extracting Data",
			"metadata": {
				"editable": true,
				"trusted": true
			}
		},
		{
			"cell_type": "code",
			"source": "# Get today's date in the format \"YYYYMMDD\"\n# today = datetime.date.today().strftime(\"%Y%m%d\")\ntoday = \"19980506\"\ndf_orders = spark.read.format(\"csv\").option(\"header\", \"true\").load(f\"s3://ijdhad-mydemo/landing_zone/orders/{today}\")\ndf_orders_details = spark.read.format(\"csv\").option(\"header\", \"true\").load(\"s3://ijdhad-mydemo/landing_zone/orders_details\")",
			"metadata": {
				"editable": true,
				"trusted": true
			},
			"execution_count": 17,
			"outputs": [
				{
					"name": "stdout",
					"text": "\n",
					"output_type": "stream"
				}
			]
		},
		{
			"cell_type": "markdown",
			"source": "# 2 Loading Data to S3 Raw Zone",
			"metadata": {
				"editable": true,
				"trusted": true
			}
		},
		{
			"cell_type": "code",
			"source": "\n\nyear = today[0:4]\nmonth = today[4:6]\nday = today[6:8]\nprint(year+month+day)\ndf_orders.write.parquet(f\"s3://ijdhad-mydemo/raw_zone_pyspark/orders/partitioned_data/year={year}/month={month}/day={day}\")",
			"metadata": {
				"editable": true,
				"trusted": true
			},
			"execution_count": 13,
			"outputs": [
				{
					"name": "stdout",
					"text": "19980506\n",
					"output_type": "stream"
				}
			]
		},
		{
			"cell_type": "markdown",
			"source": "### Update Partition",
			"metadata": {
				"editable": true,
				"trusted": true
			}
		},
		{
			"cell_type": "code",
			"source": "db_name = \"demo\"\ntable_name = \"orders\"\nspark.sql(f\"MSCK REPAIR TABLE {db_name}.{table_name}\")",
			"metadata": {
				"editable": true,
				"trusted": true
			},
			"execution_count": 14,
			"outputs": [
				{
					"name": "stdout",
					"text": "DataFrame[]\n",
					"output_type": "stream"
				}
			]
		},
		{
			"cell_type": "markdown",
			"source": "# 3. Transforming data",
			"metadata": {}
		},
		{
			"cell_type": "markdown",
			"source": "### 3.1 Join Table",
			"metadata": {}
		},
		{
			"cell_type": "code",
			"source": "df_orders_details = df_orders_details.withColumnRenamed(\"orderid\", \"orderid_2\")\ndf_fact_orders_items = df_orders_details \\\n                    .join(df_orders, df_orders[\"orderid\"] == df_orders_details[\"orderid_2\"], how=\"right\").drop(*[\"orderid_2\"])\ndf_fact_orders_items.show()",
			"metadata": {
				"trusted": true
			},
			"execution_count": 21,
			"outputs": [
				{
					"name": "stdout",
					"text": "+---------+---------+--------+--------+-------+----------+----------+----------+------------+-----------+-------+-------+--------------------+--------------------+-----------+----------+--------------+-----------+\n|productid|unitprice|quantity|discount|orderid|customerid|employeeid| orderdate|requireddate|shippeddate|shipvia|freight|            shipname|         shipaddress|   shipcity|shipregion|shippostalcode|shipcountry|\n+---------+---------+--------+--------+-------+----------+----------+----------+------------+-----------+-------+-------+--------------------+--------------------+-----------+----------+--------------+-----------+\n|       16|    17.45|      14|    0.05|  11074|     SIMOB|         7|1998-05-06|  1998-06-03|       null|      2|  18.44|       Simons bistro|        Vinbæltet 34|  Kobenhavn|      null|          1734|    Denmark|\n|       76|       18|       2|    0.15|  11075|     RICSU|         8|1998-05-06|  1998-06-03|       null|      2|   6.19|  Richter Supermarkt|         Starenweg 5|     Genève|      null|          1204|Switzerland|\n|       46|       12|      30|    0.15|  11075|     RICSU|         8|1998-05-06|  1998-06-03|       null|      2|   6.19|  Richter Supermarkt|         Starenweg 5|     Genève|      null|          1204|Switzerland|\n|        2|       19|      10|    0.15|  11075|     RICSU|         8|1998-05-06|  1998-06-03|       null|      2|   6.19|  Richter Supermarkt|         Starenweg 5|     Genève|      null|          1204|Switzerland|\n|       19|      9.2|      10|    0.25|  11076|     BONAP|         4|1998-05-06|  1998-06-03|       null|      2|  38.28|            Bon app'|12, rue des Bouchers|  Marseille|      null|         13008|     France|\n|       14|    23.25|      20|    0.25|  11076|     BONAP|         4|1998-05-06|  1998-06-03|       null|      2|  38.28|            Bon app'|12, rue des Bouchers|  Marseille|      null|         13008|     France|\n|        6|       25|      20|    0.25|  11076|     BONAP|         4|1998-05-06|  1998-06-03|       null|      2|  38.28|            Bon app'|12, rue des Bouchers|  Marseille|      null|         13008|     France|\n|       77|       13|       2|       0|  11077|     RATTC|         1|1998-05-06|  1998-06-03|       null|      2|   8.53|Rattlesnake Canyo...|     2817 Milton Dr.|Albuquerque|        NM|         87110|        USA|\n|       75|     7.75|       4|       0|  11077|     RATTC|         1|1998-05-06|  1998-06-03|       null|      2|   8.53|Rattlesnake Canyo...|     2817 Milton Dr.|Albuquerque|        NM|         87110|        USA|\n|       73|       15|       2|    0.01|  11077|     RATTC|         1|1998-05-06|  1998-06-03|       null|      2|   8.53|Rattlesnake Canyo...|     2817 Milton Dr.|Albuquerque|        NM|         87110|        USA|\n|       66|       17|       1|       0|  11077|     RATTC|         1|1998-05-06|  1998-06-03|       null|      2|   8.53|Rattlesnake Canyo...|     2817 Milton Dr.|Albuquerque|        NM|         87110|        USA|\n|       64|    33.25|       2|    0.03|  11077|     RATTC|         1|1998-05-06|  1998-06-03|       null|      2|   8.53|Rattlesnake Canyo...|     2817 Milton Dr.|Albuquerque|        NM|         87110|        USA|\n|       60|       34|       2|    0.06|  11077|     RATTC|         1|1998-05-06|  1998-06-03|       null|      2|   8.53|Rattlesnake Canyo...|     2817 Milton Dr.|Albuquerque|        NM|         87110|        USA|\n|       55|       24|       2|       0|  11077|     RATTC|         1|1998-05-06|  1998-06-03|       null|      2|   8.53|Rattlesnake Canyo...|     2817 Milton Dr.|Albuquerque|        NM|         87110|        USA|\n|       52|        7|       2|       0|  11077|     RATTC|         1|1998-05-06|  1998-06-03|       null|      2|   8.53|Rattlesnake Canyo...|     2817 Milton Dr.|Albuquerque|        NM|         87110|        USA|\n|       46|       12|       3|    0.02|  11077|     RATTC|         1|1998-05-06|  1998-06-03|       null|      2|   8.53|Rattlesnake Canyo...|     2817 Milton Dr.|Albuquerque|        NM|         87110|        USA|\n|       41|     9.65|       3|       0|  11077|     RATTC|         1|1998-05-06|  1998-06-03|       null|      2|   8.53|Rattlesnake Canyo...|     2817 Milton Dr.|Albuquerque|        NM|         87110|        USA|\n|       39|       18|       2|    0.05|  11077|     RATTC|         1|1998-05-06|  1998-06-03|       null|      2|   8.53|Rattlesnake Canyo...|     2817 Milton Dr.|Albuquerque|        NM|         87110|        USA|\n|       32|       32|       1|       0|  11077|     RATTC|         1|1998-05-06|  1998-06-03|       null|      2|   8.53|Rattlesnake Canyo...|     2817 Milton Dr.|Albuquerque|        NM|         87110|        USA|\n|       23|        9|       2|       0|  11077|     RATTC|         1|1998-05-06|  1998-06-03|       null|      2|   8.53|Rattlesnake Canyo...|     2817 Milton Dr.|Albuquerque|        NM|         87110|        USA|\n+---------+---------+--------+--------+-------+----------+----------+----------+------------+-----------+-------+-------+--------------------+--------------------+-----------+----------+--------------+-----------+\nonly showing top 20 rows\n",
					"output_type": "stream"
				}
			]
		},
		{
			"cell_type": "code",
			"source": "from pyspark.sql.functions import expr, concat, substring, col,to_date\n# Add 543 years to the orderdate column while maintaining month-day format\ndf_fact_orders_items = df_fact_orders_items.withColumn(\"new_year\", expr(\"substring(orderdate, 1, 4) + 543\"))\ndf_fact_orders_items = df_fact_orders_items.withColumn(\"orderdate\", expr(\"concat(cast(substring(orderdate, 1, 4) + 543 as string), substring(orderdate, 5))\"))\ndf_fact_orders_items = df_fact_orders_items.withColumn(\"orderdate\", expr(\"replace(cast(orderdate as string), '.0', '')\"))\ndf_fact_orders_items = df_fact_orders_items.withColumn(\"orderdate\", to_date(\"orderdate\", \"yyyy-MM-dd\"))\n",
			"metadata": {
				"trusted": true
			},
			"execution_count": 24,
			"outputs": [
				{
					"name": "stdout",
					"text": "\n",
					"output_type": "stream"
				}
			]
		},
		{
			"cell_type": "markdown",
			"source": "### 3.2 Load Transformed Data To Serving Zone",
			"metadata": {}
		},
		{
			"cell_type": "code",
			"source": "year = int(year) + 543\ndf_fact_orders_items.write.parquet(f\"s3://ijdhad-mydemo/serving_zone_pyspark/fact_orders_items/partitioned_data/year={year}/month={month}/day={day}\")",
			"metadata": {
				"trusted": true
			},
			"execution_count": 31,
			"outputs": [
				{
					"name": "stdout",
					"text": "\n",
					"output_type": "stream"
				}
			]
		},
		{
			"cell_type": "code",
			"source": "db_name = \"demo\"\ntable_name = \"fact_orders_items\"\nspark.sql(f\"MSCK REPAIR TABLE {db_name}.{table_name}\")",
			"metadata": {
				"trusted": true
			},
			"execution_count": null,
			"outputs": []
		}
	]
}