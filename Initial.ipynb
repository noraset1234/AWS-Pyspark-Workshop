{
	"metadata": {
		"kernelspec": {
			"name": "glue_pyspark",
			"display_name": "Glue PySpark",
			"language": "python"
		},
		"language_info": {
			"name": "Python_Glue_Session",
			"mimetype": "text/x-python",
			"codemirror_mode": {
				"name": "python",
				"version": 3
			},
			"pygments_lexer": "python3",
			"file_extension": ".py"
		}
	},
	"nbformat_minor": 4,
	"nbformat": 4,
	"cells": [
		{
			"cell_type": "markdown",
			"source": "# AWS Glue Studio Notebook\n##### You are now running a AWS Glue Studio notebook; To start using your notebook you need to start an AWS Glue Interactive Session.\n",
			"metadata": {
				"editable": true,
				"trusted": true
			}
		},
		{
			"cell_type": "markdown",
			"source": "#### Optional: Run this cell to see available notebook commands (\"magics\").\n",
			"metadata": {
				"editable": true,
				"trusted": true
			}
		},
		{
			"cell_type": "code",
			"source": "%help",
			"metadata": {
				"editable": true,
				"trusted": true
			},
			"execution_count": null,
			"outputs": []
		},
		{
			"cell_type": "markdown",
			"source": "####  Run this cell to set up and start your interactive session.\n",
			"metadata": {
				"editable": true,
				"trusted": true
			}
		},
		{
			"cell_type": "code",
			"source": "%idle_timeout 2880\n%glue_version 3.0\n%worker_type G.1X\n%number_of_workers 5\n\nimport sys\nfrom awsglue.transforms import *\nfrom awsglue.utils import getResolvedOptions\nfrom pyspark.context import SparkContext\nfrom awsglue.context import GlueContext\nfrom awsglue.job import Job\n  \nsc = SparkContext.getOrCreate()\nglueContext = GlueContext(sc)\nspark = glueContext.spark_session\njob = Job(glueContext)",
			"metadata": {
				"editable": true,
				"trusted": true
			},
			"execution_count": null,
			"outputs": []
		},
		{
			"cell_type": "markdown",
			"source": "# 1. Extracting Data",
			"metadata": {
				"editable": true,
				"tags": [],
				"trusted": true
			}
		},
		{
			"cell_type": "markdown",
			"source": "## 1.1 Extracting data from APIs (e.g., REST API)",
			"metadata": {}
		},
		{
			"cell_type": "code",
			"source": "import requests\nimport json\nfrom pyspark.sql.types import StructType, StructField, StringType, IntegerType, FloatType, ArrayType\n\n# Fetch the JSON response using requests library\nresponse = requests.get(\"https://dummyjson.com/products/1\")\ndata = response.json()\nprint(data)\nschema = StructType([\n    StructField(\"id\", IntegerType(), nullable=False),\n    StructField(\"title\", StringType(), nullable=True),\n    StructField(\"description\", StringType(), nullable=True),\n    StructField(\"price\", IntegerType(), nullable=True),\n    StructField(\"discountPercentage\", FloatType(), nullable=True),\n    StructField(\"rating\", FloatType(), nullable=True),\n    StructField(\"stock\", IntegerType(), nullable=True),\n    StructField(\"brand\", StringType(), nullable=True),\n    StructField(\"category\", StringType(), nullable=True),\n    StructField(\"thumbnail\", StringType(), nullable=True),\n    StructField(\"images\", ArrayType(StringType()), nullable=True)\n])\ndataframe = spark.createDataFrame([data], schema=schema)\n\n# Display the DataFrame\ndataframe.show()\n",
			"metadata": {
				"editable": true,
				"trusted": true
			},
			"execution_count": null,
			"outputs": []
		},
		{
			"cell_type": "markdown",
			"source": "## 1.2 Extracting data from files (e.g., CSV)",
			"metadata": {
				"editable": true,
				"trusted": true
			}
		},
		{
			"cell_type": "code",
			"source": "df_orders = spark.read.format(\"csv\").option(\"header\", \"true\").load(\"s3://ijdhad-mydemo/landing_zone/orders/19980505\")\ndf_categories = spark.read.format(\"csv\").option(\"header\", \"true\").load(\"s3://ijdhad-mydemo/landing_zone/categories\")\ndf_customers = spark.read.format(\"csv\").option(\"header\", \"true\").load(\"s3://ijdhad-mydemo/landing_zone/customers\")\ndf_orders_details = spark.read.format(\"csv\").option(\"header\", \"true\").load(\"s3://ijdhad-mydemo/landing_zone/orders_details\")\ndf_products = spark.read.format(\"csv\").option(\"header\", \"true\").load(\"s3://ijdhad-mydemo/landing_zone/products\")\ndf_suppliers = spark.read.format(\"csv\").option(\"header\", \"true\").load(\"s3://ijdhad-mydemo/landing_zone/suppliers\")\n\n# Display the DataFrame\ndf_products.show()",
			"metadata": {
				"editable": true,
				"trusted": true
			},
			"execution_count": null,
			"outputs": []
		},
		{
			"cell_type": "markdown",
			"source": "## 1.3 Extracting data from a database using JDBC connection",
			"metadata": {
				"editable": true,
				"trusted": true
			}
		},
		{
			"cell_type": "code",
			"source": "jdbc_url = \"jdbc:postgresql://<host>:<port>/<database>\"\ndb_properties = {\"user\": \"<username>\", \"password\": \"<password>\", \"driver\": \"org.postgresql.Driver\"}\ndataframe = spark.read.format(\"jdbc\").options(url=jdbc_url, **db_properties).load()\n",
			"metadata": {
				"editable": true,
				"trusted": true
			},
			"execution_count": null,
			"outputs": []
		},
		{
			"cell_type": "markdown",
			"source": "# 2. Loading Data",
			"metadata": {}
		},
		{
			"cell_type": "markdown",
			"source": "## 2.1 Loading Data to S3 Raw Zone",
			"metadata": {}
		},
		{
			"cell_type": "code",
			"source": "from pyspark.sql.functions import year, month, dayofmonth, format_string\n\ndf_orders = df_orders.withColumn(\"year\", year(df_orders['orderdate']))\ndf_orders = df_orders.withColumn(\"month\", format_string(\"%02d\", month(df_orders['orderdate'])))\ndf_orders = df_orders.withColumn(\"day\", format_string(\"%02d\",dayofmonth(df_orders['orderdate'])))\n\n\n\ndf_orders.write.partitionBy(\"year\", \"month\", \"day\").parquet(\"s3://ijdhad-mydemo/raw_zone_pyspark/orders/partitioned_data/\")\ndf_categories.write.parquet(\"s3://ijdhad-mydemo/raw_zone_pyspark/categories/\")\ndf_customers.write.parquet(\"s3://ijdhad-mydemo/raw_zone_pyspark/customers/\")\ndf_orders_details.write.parquet(\"s3://ijdhad-mydemo/raw_zone_pyspark/orders_details/\")\ndf_products.write.parquet(\"s3://ijdhad-mydemo/raw_zone_pyspark/products/\")\ndf_suppliers.write.parquet(\"s3://ijdhad-mydemo/raw_zone_pyspark/suppliers/\")",
			"metadata": {
				"trusted": true
			},
			"execution_count": null,
			"outputs": []
		},
		{
			"cell_type": "markdown",
			"source": "## 2.2 Create Athena Table to read data from Raw Zone",
			"metadata": {}
		},
		{
			"cell_type": "code",
			"source": "def generate_ddl(dataframe, table_name, db_name, zone):\n    ddl_statement = f\"CREATE EXTERNAL TABLE IF NOT EXISTS {db_name}.{table_name} (\\n\"\n    \n    for field in dataframe.schema.fields:\n        column_name = field.name\n        data_type = field.dataType.simpleString()\n        ddl_statement += f\"  {column_name} {data_type},\\n\"\n    \n    ddl_statement = ddl_statement.rstrip(\",\\n\")\n    ddl_statement += f\"\\n)\\nSTORED AS PARQUET\\nLOCATION 's3://ijdhad-mydemo/{zone}_pyspark/{table_name}/'\"\n    \n\n    # Print the DDL statement\n    print(ddl_statement)\n                  \n    # Create Athena Table\n    spark.sql(ddl_statement)",
			"metadata": {
				"trusted": true
			},
			"execution_count": 145,
			"outputs": [
				{
					"name": "stdout",
					"text": "\n",
					"output_type": "stream"
				}
			]
		},
		{
			"cell_type": "code",
			"source": "db_name = \"demo\"\ngenerate_ddl(df_categories, \"categories\", db_name, \"raw_zone\")\ngenerate_ddl(df_customers, \"customers\", db_name, \"raw_zone\")\ngenerate_ddl(df_orders_details,\"orders_details\", db_name, \"raw_zone\")\ngenerate_ddl(df_products, \"products\", db_name, \"raw_zone\")\ngenerate_ddl(df_suppliers, \"suppliers\", db_name, \"raw_zone\")",
			"metadata": {},
			"execution_count": null,
			"outputs": []
		},
		{
			"cell_type": "code",
			"source": "def generate_ddl_with_partition(dataframe, table_name, db_name, zone):\n    ddl_statement = f\"CREATE EXTERNAL TABLE IF NOT EXISTS {db_name}.{table_name} (\\n\"\n    \n    for field in dataframe.schema.fields:\n        column_name = field.name\n        if column_name not in [\"year\", \"month\", \"day\"]:\n            data_type = field.dataType.simpleString()\n            ddl_statement += f\"  {column_name} {data_type},\\n\"\n    \n    ddl_statement = ddl_statement.rstrip(\",\\n\")\n    ddl_statement += f\"\"\"\\n)\n                        PARTITIONED BY ( \n                          `year` int, \n                          `month` int, \n                          `day` int)\n                        \"\"\"\n    ddl_statement += f\"\\nSTORED AS PARQUET\\nLOCATION 's3://ijdhad-mydemo/{zone}_pyspark/{table_name}/partitioned_data/'\"\n    \n\n    # Print the DDL statement\n    print(ddl_statement)\n                  \n    # Create Athena Table\n    spark.sql(ddl_statement)\n    spark.sql(f\"MSCK REPAIR TABLE {db_name}.{table_name}\")",
			"metadata": {
				"trusted": true
			},
			"execution_count": 141,
			"outputs": [
				{
					"name": "stdout",
					"text": "\n",
					"output_type": "stream"
				}
			]
		},
		{
			"cell_type": "code",
			"source": "generate_ddl_with_partition(df_orders, \"orders\", db_name, \"raw_zone\")",
			"metadata": {
				"trusted": true
			},
			"execution_count": null,
			"outputs": []
		},
		{
			"cell_type": "markdown",
			"source": "# 3. Transforming data",
			"metadata": {}
		},
		{
			"cell_type": "code",
			"source": "# Joining data\ndf_products = df_products.alias(\"products\")\ndf_categories = df_categories.alias(\"categories\")\ndf_suppliers = df_suppliers.alias(\"suppliers\")\n\ndf_dim_products = df_products \\\n                    .join(df_categories, df_products[\"categoryid\"] == df_categories[\"categoryid\"], how=\"right\").drop(*[\"categoryid\"]) \\\n                    .join(df_suppliers,df_products[\"supplierid\"] == df_suppliers[\"supplierid\"], how=\"right\").drop(*[\"supplierid\"])\ndf_dim_products.show()",
			"metadata": {
				"trusted": true
			},
			"execution_count": 125,
			"outputs": [
				{
					"name": "stdout",
					"text": "+---------+--------------------+-------------------+---------+------------+------------+------------+------------+--------------+--------------------+-------+--------------------+--------------------+--------------------+--------------------+-----------+--------+----------+---------+--------------+--------------+--------------------+\n|productid|         productname|    quantityperunit|unitprice|unitsinstock|unitsonorder|reorderlevel|discontinued|  categoryname|         description|picture|         companyname|         contactname|        contacttitle|             address|       city|  region|postalcode|  country|         phone|           fax|            homepage|\n+---------+--------------------+-------------------+---------+------------+------------+------------+------------+--------------+--------------------+-------+--------------------+--------------------+--------------------+--------------------+-----------+--------+----------+---------+--------------+--------------+--------------------+\n|        3|       Aniseed Syrup|12 - 550 ml bottles|       10|          13|          70|          25|           0|    Condiments|Sweet and savory ...|     \\x|      Exotic Liquids|    Charlotte Cooper|  Purchasing Manager|      49 Gilbert St.|     London|    null|   EC1 4SD|       UK|(171) 555-2222|          null|                null|\n|        2|               Chang| 24 - 12 oz bottles|       19|          17|          40|          25|           1|     Beverages|Soft drinks, coff...|     \\x|      Exotic Liquids|    Charlotte Cooper|  Purchasing Manager|      49 Gilbert St.|     London|    null|   EC1 4SD|       UK|(171) 555-2222|          null|                null|\n|       66|Louisiana Hot Spi...|     24 - 8 oz jars|       17|           4|         100|          20|           0|    Condiments|Sweet and savory ...|     \\x|New Orleans Cajun...|       Shelley Burke| Order Administrator|      P.O. Box 78934|New Orleans|      LA|     70117|      USA|(100) 555-4822|          null|         #CAJUN.HTM#|\n|       65|Louisiana Fiery H...|  32 - 8 oz bottles|    21.05|          76|           0|           0|           0|    Condiments|Sweet and savory ...|     \\x|New Orleans Cajun...|       Shelley Burke| Order Administrator|      P.O. Box 78934|New Orleans|      LA|     70117|      USA|(100) 555-4822|          null|         #CAJUN.HTM#|\n|        5|Chef Anton's Gumb...|           36 boxes|    21.35|           0|           0|           0|           1|    Condiments|Sweet and savory ...|     \\x|New Orleans Cajun...|       Shelley Burke| Order Administrator|      P.O. Box 78934|New Orleans|      LA|     70117|      USA|(100) 555-4822|          null|         #CAJUN.HTM#|\n|        4|Chef Anton's Caju...|     48 - 6 oz jars|       22|          53|           0|           0|           0|    Condiments|Sweet and savory ...|     \\x|New Orleans Cajun...|       Shelley Burke| Order Administrator|      P.O. Box 78934|New Orleans|      LA|     70117|      USA|(100) 555-4822|          null|         #CAJUN.HTM#|\n|        8|Northwoods Cranbe...|    12 - 12 oz jars|       40|           6|           0|           0|           0|    Condiments|Sweet and savory ...|     \\x|Grandma Kelly's H...|       Regina Murphy|Sales Representative|      707 Oxford Rd.|  Ann Arbor|      MI|     48104|      USA|(313) 555-5735|(313) 555-3349|                null|\n|        7|Uncle Bob's Organ...|    12 - 1 lb pkgs.|       30|          15|           0|          10|           0|       Produce|Dried fruit and b...|     \\x|Grandma Kelly's H...|       Regina Murphy|Sales Representative|      707 Oxford Rd.|  Ann Arbor|      MI|     48104|      USA|(313) 555-5735|(313) 555-3349|                null|\n|        6|Grandma's Boysenb...|     12 - 8 oz jars|       25|         120|           0|          25|           0|    Condiments|Sweet and savory ...|     \\x|Grandma Kelly's H...|       Regina Murphy|Sales Representative|      707 Oxford Rd.|  Ann Arbor|      MI|     48104|      USA|(313) 555-5735|(313) 555-3349|                null|\n|       74|       Longlife Tofu|          5 kg pkg.|       10|           4|          20|           5|           0|       Produce|Dried fruit and b...|     \\x|       Tokyo Traders|        Yoshi Nagase|   Marketing Manager|9-8 Sekimai Musas...|      Tokyo|    null|       100|    Japan|(03) 3555-5011|          null|                null|\n|       10|               Ikura|   12 - 200 ml jars|       31|          31|           0|           0|           0|       Seafood|    Seaweed and fish|     \\x|       Tokyo Traders|        Yoshi Nagase|   Marketing Manager|9-8 Sekimai Musas...|      Tokyo|    null|       100|    Japan|(03) 3555-5011|          null|                null|\n|        9|     Mishi Kobe Niku|   18 - 500 g pkgs.|       97|          29|           0|           0|           1|  Meat/Poultry|      Prepared meats|     \\x|       Tokyo Traders|        Yoshi Nagase|   Marketing Manager|9-8 Sekimai Musas...|      Tokyo|    null|       100|    Japan|(03) 3555-5011|          null|                null|\n|       12|Queso Manchego La...|   10 - 500 g pkgs.|       38|          86|           0|           0|           0|Dairy Products|             Cheeses|     \\x|Cooperativa de Qu...|Antonio del Valle...|Export Administrator|   Calle del Rosal 4|     Oviedo|Asturias|     33007|    Spain|(98) 598 76 54|          null|                null|\n|       11|      Queso Cabrales|          1 kg pkg.|       21|          22|          30|          30|           0|Dairy Products|             Cheeses|     \\x|Cooperativa de Qu...|Antonio del Valle...|Export Administrator|   Calle del Rosal 4|     Oviedo|Asturias|     33007|    Spain|(98) 598 76 54|          null|                null|\n|       15|        Genen Shouyu|24 - 250 ml bottles|       13|          39|           0|           5|           0|    Condiments|Sweet and savory ...|     \\x|            Mayumi's|         Mayumi Ohno|Marketing Represe...|  92 Setsuko Chuo-ku|      Osaka|    null|       545|    Japan| (06) 431-7877|          null|Mayumi's (on the ...|\n|       14|                Tofu|   40 - 100 g pkgs.|    23.25|          35|           0|           0|           0|       Produce|Dried fruit and b...|     \\x|            Mayumi's|         Mayumi Ohno|Marketing Represe...|  92 Setsuko Chuo-ku|      Osaka|    null|       545|    Japan| (06) 431-7877|          null|Mayumi's (on the ...|\n|       13|               Konbu|           2 kg box|        6|          24|           0|           5|           0|       Seafood|    Seaweed and fish|     \\x|            Mayumi's|         Mayumi Ohno|Marketing Represe...|  92 Setsuko Chuo-ku|      Osaka|    null|       545|    Japan| (06) 431-7877|          null|Mayumi's (on the ...|\n|       70|       Outback Lager|24 - 355 ml bottles|       15|          15|          10|          30|           0|     Beverages|Soft drinks, coff...|     \\x|       Pavlova, Ltd.|         Ian Devling|   Marketing Manager|74 Rose St. Mooni...|  Melbourne|Victoria|      3058|Australia| (03) 444-2343| (03) 444-6588|                null|\n|       63|        Vegie-spread|    15 - 625 g jars|     43.9|          24|           0|           5|           0|    Condiments|Sweet and savory ...|     \\x|       Pavlova, Ltd.|         Ian Devling|   Marketing Manager|74 Rose St. Mooni...|  Melbourne|Victoria|      3058|Australia| (03) 444-2343| (03) 444-6588|                null|\n|       18|    Carnarvon Tigers|         16 kg pkg.|     62.5|          42|           0|           0|           0|       Seafood|    Seaweed and fish|     \\x|       Pavlova, Ltd.|         Ian Devling|   Marketing Manager|74 Rose St. Mooni...|  Melbourne|Victoria|      3058|Australia| (03) 444-2343| (03) 444-6588|                null|\n+---------+--------------------+-------------------+---------+------------+------------+------------+------------+--------------+--------------------+-------+--------------------+--------------------+--------------------+--------------------+-----------+--------+----------+---------+--------------+--------------+--------------------+\nonly showing top 20 rows\n",
					"output_type": "stream"
				}
			]
		},
		{
			"cell_type": "code",
			"source": "\ndf_orders_details = df_orders_details.withColumnRenamed(\"orderid\", \"orderid_2\")\ndf_fact_orders_items = df_orders_details  \\\n                    .join(df_orders, df_orders[\"orderid\"] == df_orders_details[\"orderid_2\"], how=\"right\").drop(*[\"orderid_2\"])\ndf_fact_orders_items.show()",
			"metadata": {
				"trusted": true
			},
			"execution_count": 128,
			"outputs": [
				{
					"name": "stdout",
					"text": "+-------+----------+----------+----------+------------+-----------+-------+-------+--------------------+--------------------+--------------+----------+--------------+-----------+----+-----+---+---------+---------+--------+--------+\n|orderid|customerid|employeeid| orderdate|requireddate|shippeddate|shipvia|freight|            shipname|         shipaddress|      shipcity|shipregion|shippostalcode|shipcountry|year|month|day|productid|unitprice|quantity|discount|\n+-------+----------+----------+----------+------------+-----------+-------+-------+--------------------+--------------------+--------------+----------+--------------+-----------+----+-----+---+---------+---------+--------+--------+\n|  10248|     VINET|         5|1996-07-04|  1996-08-01| 1996-07-16|      3|  32.38|Vins et alcools C...|  59 rue de l'Abbaye|         Reims|      null|         51100|     France|1996|   07| 04|       11|       14|      12|       0|\n|  10248|     VINET|         5|1996-07-04|  1996-08-01| 1996-07-16|      3|  32.38|Vins et alcools C...|  59 rue de l'Abbaye|         Reims|      null|         51100|     France|1996|   07| 04|       42|      9.8|      10|       0|\n|  10248|     VINET|         5|1996-07-04|  1996-08-01| 1996-07-16|      3|  32.38|Vins et alcools C...|  59 rue de l'Abbaye|         Reims|      null|         51100|     France|1996|   07| 04|       72|     34.8|       5|       0|\n|  10249|     TOMSP|         6|1996-07-05|  1996-08-16| 1996-07-10|      1|  11.61|  Toms Spezialitäten|       Luisenstr. 48|       Münster|      null|         44087|    Germany|1996|   07| 05|       14|     18.6|       9|       0|\n|  10249|     TOMSP|         6|1996-07-05|  1996-08-16| 1996-07-10|      1|  11.61|  Toms Spezialitäten|       Luisenstr. 48|       Münster|      null|         44087|    Germany|1996|   07| 05|       51|     42.4|      40|       0|\n|  10250|     HANAR|         4|1996-07-08|  1996-08-05| 1996-07-12|      2|  65.83|       Hanari Carnes|     Rua do Paço, 67|Rio de Janeiro|        RJ|     05454-876|     Brazil|1996|   07| 08|       41|      7.7|      10|       0|\n|  10250|     HANAR|         4|1996-07-08|  1996-08-05| 1996-07-12|      2|  65.83|       Hanari Carnes|     Rua do Paço, 67|Rio de Janeiro|        RJ|     05454-876|     Brazil|1996|   07| 08|       51|     42.4|      35|    0.15|\n|  10250|     HANAR|         4|1996-07-08|  1996-08-05| 1996-07-12|      2|  65.83|       Hanari Carnes|     Rua do Paço, 67|Rio de Janeiro|        RJ|     05454-876|     Brazil|1996|   07| 08|       65|     16.8|      15|    0.15|\n|  10251|     VICTE|         3|1996-07-08|  1996-08-05| 1996-07-15|      1|  41.34|Victuailles en stock|  2, rue du Commerce|          Lyon|      null|         69004|     France|1996|   07| 08|       22|     16.8|       6|    0.05|\n|  10251|     VICTE|         3|1996-07-08|  1996-08-05| 1996-07-15|      1|  41.34|Victuailles en stock|  2, rue du Commerce|          Lyon|      null|         69004|     France|1996|   07| 08|       57|     15.6|      15|    0.05|\n|  10251|     VICTE|         3|1996-07-08|  1996-08-05| 1996-07-15|      1|  41.34|Victuailles en stock|  2, rue du Commerce|          Lyon|      null|         69004|     France|1996|   07| 08|       65|     16.8|      20|       0|\n|  10252|     SUPRD|         4|1996-07-09|  1996-08-06| 1996-07-11|      2|   51.3|    Suprêmes délices|Boulevard Tirou, 255|     Charleroi|      null|        B-6000|    Belgium|1996|   07| 09|       20|     64.8|      40|    0.05|\n|  10252|     SUPRD|         4|1996-07-09|  1996-08-06| 1996-07-11|      2|   51.3|    Suprêmes délices|Boulevard Tirou, 255|     Charleroi|      null|        B-6000|    Belgium|1996|   07| 09|       33|        2|      25|    0.05|\n|  10252|     SUPRD|         4|1996-07-09|  1996-08-06| 1996-07-11|      2|   51.3|    Suprêmes délices|Boulevard Tirou, 255|     Charleroi|      null|        B-6000|    Belgium|1996|   07| 09|       60|     27.2|      40|       0|\n|  10253|     HANAR|         3|1996-07-10|  1996-07-24| 1996-07-16|      2|  58.17|       Hanari Carnes|     Rua do Paço, 67|Rio de Janeiro|        RJ|     05454-876|     Brazil|1996|   07| 10|       31|       10|      20|       0|\n|  10253|     HANAR|         3|1996-07-10|  1996-07-24| 1996-07-16|      2|  58.17|       Hanari Carnes|     Rua do Paço, 67|Rio de Janeiro|        RJ|     05454-876|     Brazil|1996|   07| 10|       39|     14.4|      42|       0|\n|  10253|     HANAR|         3|1996-07-10|  1996-07-24| 1996-07-16|      2|  58.17|       Hanari Carnes|     Rua do Paço, 67|Rio de Janeiro|        RJ|     05454-876|     Brazil|1996|   07| 10|       49|       16|      40|       0|\n|  10254|     CHOPS|         5|1996-07-11|  1996-08-08| 1996-07-23|      2|  22.98|   Chop-suey Chinese|        Hauptstr. 31|          Bern|      null|          3012|Switzerland|1996|   07| 11|       24|      3.6|      15|    0.15|\n|  10254|     CHOPS|         5|1996-07-11|  1996-08-08| 1996-07-23|      2|  22.98|   Chop-suey Chinese|        Hauptstr. 31|          Bern|      null|          3012|Switzerland|1996|   07| 11|       55|     19.2|      21|    0.15|\n|  10254|     CHOPS|         5|1996-07-11|  1996-08-08| 1996-07-23|      2|  22.98|   Chop-suey Chinese|        Hauptstr. 31|          Bern|      null|          3012|Switzerland|1996|   07| 11|       74|        8|      21|       0|\n+-------+----------+----------+----------+------------+-----------+-------+-------+--------------------+--------------------+--------------+----------+--------------+-----------+----+-----+---+---------+---------+--------+--------+\nonly showing top 20 rows\n",
					"output_type": "stream"
				}
			]
		},
		{
			"cell_type": "code",
			"source": "",
			"metadata": {},
			"execution_count": null,
			"outputs": []
		},
		{
			"cell_type": "markdown",
			"source": "## 3.1 Trasnform Fact_Orders_Items",
			"metadata": {}
		},
		{
			"cell_type": "code",
			"source": "from pyspark.sql.functions import expr, concat, substring, col\n# Add 543 years to the orderdate column while maintaining month-day format\ndf_fact_orders_items = df_fact_orders_items.withColumn(\"new_year\", expr(\"substring(orderdate, 1, 4) + 543\"))\ndf_fact_orders_items = df_fact_orders_items.withColumn(\"orderdate\", expr(\"concat(cast(substring(orderdate, 1, 4) + 543 as string), substring(orderdate, 5))\"))\ndf_fact_orders_items = df_fact_orders_items.withColumn(\"orderdate\", expr(\"replace(cast(orderdate as string), '.0', '')\"))\ndf_fact_orders_items = df_fact_orders_items.withColumn(\"orderdate\", to_date(\"orderdate\", \"yyyy-MM-dd\"))\n\ndf_fact_orders_items.show()",
			"metadata": {
				"trusted": true
			},
			"execution_count": 129,
			"outputs": [
				{
					"name": "stdout",
					"text": "+-------+----------+----------+----------+------------+-----------+-------+-------+--------------------+--------------------+--------------+----------+--------------+-----------+----+-----+---+---------+---------+--------+--------+--------+\n|orderid|customerid|employeeid| orderdate|requireddate|shippeddate|shipvia|freight|            shipname|         shipaddress|      shipcity|shipregion|shippostalcode|shipcountry|year|month|day|productid|unitprice|quantity|discount|new_year|\n+-------+----------+----------+----------+------------+-----------+-------+-------+--------------------+--------------------+--------------+----------+--------------+-----------+----+-----+---+---------+---------+--------+--------+--------+\n|  10248|     VINET|         5|2539-07-04|  1996-08-01| 1996-07-16|      3|  32.38|Vins et alcools C...|  59 rue de l'Abbaye|         Reims|      null|         51100|     France|1996|   07| 04|       11|       14|      12|       0|  2539.0|\n|  10248|     VINET|         5|2539-07-04|  1996-08-01| 1996-07-16|      3|  32.38|Vins et alcools C...|  59 rue de l'Abbaye|         Reims|      null|         51100|     France|1996|   07| 04|       42|      9.8|      10|       0|  2539.0|\n|  10248|     VINET|         5|2539-07-04|  1996-08-01| 1996-07-16|      3|  32.38|Vins et alcools C...|  59 rue de l'Abbaye|         Reims|      null|         51100|     France|1996|   07| 04|       72|     34.8|       5|       0|  2539.0|\n|  10249|     TOMSP|         6|2539-07-05|  1996-08-16| 1996-07-10|      1|  11.61|  Toms Spezialitäten|       Luisenstr. 48|       Münster|      null|         44087|    Germany|1996|   07| 05|       14|     18.6|       9|       0|  2539.0|\n|  10249|     TOMSP|         6|2539-07-05|  1996-08-16| 1996-07-10|      1|  11.61|  Toms Spezialitäten|       Luisenstr. 48|       Münster|      null|         44087|    Germany|1996|   07| 05|       51|     42.4|      40|       0|  2539.0|\n|  10250|     HANAR|         4|2539-07-08|  1996-08-05| 1996-07-12|      2|  65.83|       Hanari Carnes|     Rua do Paço, 67|Rio de Janeiro|        RJ|     05454-876|     Brazil|1996|   07| 08|       41|      7.7|      10|       0|  2539.0|\n|  10250|     HANAR|         4|2539-07-08|  1996-08-05| 1996-07-12|      2|  65.83|       Hanari Carnes|     Rua do Paço, 67|Rio de Janeiro|        RJ|     05454-876|     Brazil|1996|   07| 08|       51|     42.4|      35|    0.15|  2539.0|\n|  10250|     HANAR|         4|2539-07-08|  1996-08-05| 1996-07-12|      2|  65.83|       Hanari Carnes|     Rua do Paço, 67|Rio de Janeiro|        RJ|     05454-876|     Brazil|1996|   07| 08|       65|     16.8|      15|    0.15|  2539.0|\n|  10251|     VICTE|         3|2539-07-08|  1996-08-05| 1996-07-15|      1|  41.34|Victuailles en stock|  2, rue du Commerce|          Lyon|      null|         69004|     France|1996|   07| 08|       22|     16.8|       6|    0.05|  2539.0|\n|  10251|     VICTE|         3|2539-07-08|  1996-08-05| 1996-07-15|      1|  41.34|Victuailles en stock|  2, rue du Commerce|          Lyon|      null|         69004|     France|1996|   07| 08|       57|     15.6|      15|    0.05|  2539.0|\n|  10251|     VICTE|         3|2539-07-08|  1996-08-05| 1996-07-15|      1|  41.34|Victuailles en stock|  2, rue du Commerce|          Lyon|      null|         69004|     France|1996|   07| 08|       65|     16.8|      20|       0|  2539.0|\n|  10252|     SUPRD|         4|2539-07-09|  1996-08-06| 1996-07-11|      2|   51.3|    Suprêmes délices|Boulevard Tirou, 255|     Charleroi|      null|        B-6000|    Belgium|1996|   07| 09|       20|     64.8|      40|    0.05|  2539.0|\n|  10252|     SUPRD|         4|2539-07-09|  1996-08-06| 1996-07-11|      2|   51.3|    Suprêmes délices|Boulevard Tirou, 255|     Charleroi|      null|        B-6000|    Belgium|1996|   07| 09|       33|        2|      25|    0.05|  2539.0|\n|  10252|     SUPRD|         4|2539-07-09|  1996-08-06| 1996-07-11|      2|   51.3|    Suprêmes délices|Boulevard Tirou, 255|     Charleroi|      null|        B-6000|    Belgium|1996|   07| 09|       60|     27.2|      40|       0|  2539.0|\n|  10253|     HANAR|         3|2539-07-10|  1996-07-24| 1996-07-16|      2|  58.17|       Hanari Carnes|     Rua do Paço, 67|Rio de Janeiro|        RJ|     05454-876|     Brazil|1996|   07| 10|       31|       10|      20|       0|  2539.0|\n|  10253|     HANAR|         3|2539-07-10|  1996-07-24| 1996-07-16|      2|  58.17|       Hanari Carnes|     Rua do Paço, 67|Rio de Janeiro|        RJ|     05454-876|     Brazil|1996|   07| 10|       39|     14.4|      42|       0|  2539.0|\n|  10253|     HANAR|         3|2539-07-10|  1996-07-24| 1996-07-16|      2|  58.17|       Hanari Carnes|     Rua do Paço, 67|Rio de Janeiro|        RJ|     05454-876|     Brazil|1996|   07| 10|       49|       16|      40|       0|  2539.0|\n|  10254|     CHOPS|         5|2539-07-11|  1996-08-08| 1996-07-23|      2|  22.98|   Chop-suey Chinese|        Hauptstr. 31|          Bern|      null|          3012|Switzerland|1996|   07| 11|       24|      3.6|      15|    0.15|  2539.0|\n|  10254|     CHOPS|         5|2539-07-11|  1996-08-08| 1996-07-23|      2|  22.98|   Chop-suey Chinese|        Hauptstr. 31|          Bern|      null|          3012|Switzerland|1996|   07| 11|       55|     19.2|      21|    0.15|  2539.0|\n|  10254|     CHOPS|         5|2539-07-11|  1996-08-08| 1996-07-23|      2|  22.98|   Chop-suey Chinese|        Hauptstr. 31|          Bern|      null|          3012|Switzerland|1996|   07| 11|       74|        8|      21|       0|  2539.0|\n+-------+----------+----------+----------+------------+-----------+-------+-------+--------------------+--------------------+--------------+----------+--------------+-----------+----+-----+---+---------+---------+--------+--------+--------+\nonly showing top 20 rows\n",
					"output_type": "stream"
				}
			]
		},
		{
			"cell_type": "markdown",
			"source": "## 3.2 Load Transformed Data To Serving Zone",
			"metadata": {}
		},
		{
			"cell_type": "code",
			"source": "df_fact_orders_items.drop(*[\"year\",\"month\",\"day\"])\ndf_fact_orders_items = df_fact_orders_items.withColumn(\"year\", year(df_fact_orders_items['orderdate']))\ndf_fact_orders_items = df_fact_orders_items.withColumn(\"month\", format_string(\"%02d\", month(df_fact_orders_items['orderdate'])))\ndf_fact_orders_items = df_fact_orders_items.withColumn(\"day\", format_string(\"%02d\",dayofmonth(df_fact_orders_items['orderdate'])))\n\ndf_fact_orders_items.write.partitionBy(\"year\", \"month\", \"day\").parquet(\"s3://ijdhad-mydemo/serving_zone_pyspark/fact_orders_items/partitioned_data/\")",
			"metadata": {
				"trusted": true
			},
			"execution_count": 133,
			"outputs": [
				{
					"name": "stdout",
					"text": "AnalysisException: path s3://ijdhad-mydemo/serving_zone_pyspark/fact_orders_items/partitioned_data already exists.\n",
					"output_type": "stream"
				}
			]
		},
		{
			"cell_type": "code",
			"source": "df_dim_products.write.parquet(\"s3://ijdhad-mydemo/serving_zone_pyspark/dim_products/\")",
			"metadata": {
				"trusted": true
			},
			"execution_count": 134,
			"outputs": [
				{
					"name": "stdout",
					"text": "\n",
					"output_type": "stream"
				}
			]
		},
		{
			"cell_type": "code",
			"source": "generate_ddl(df_dim_products, \"dim_products\", db_name, \"serving_zone\")",
			"metadata": {
				"trusted": true
			},
			"execution_count": 146,
			"outputs": [
				{
					"name": "stdout",
					"text": "CREATE EXTERNAL TABLE IF NOT EXISTS demo.dim_products (\n  productid string,\n  productname string,\n  quantityperunit string,\n  unitprice string,\n  unitsinstock string,\n  unitsonorder string,\n  reorderlevel string,\n  discontinued string,\n  categoryname string,\n  description string,\n  picture string,\n  companyname string,\n  contactname string,\n  contacttitle string,\n  address string,\n  city string,\n  region string,\n  postalcode string,\n  country string,\n  phone string,\n  fax string,\n  homepage string\n)\nSTORED AS PARQUET\nLOCATION 's3://ijdhad-mydemo/serving_zone_pyspark/dim_products/'\n",
					"output_type": "stream"
				}
			]
		},
		{
			"cell_type": "code",
			"source": "generate_ddl_with_partition(df_fact_orders_items, \"fact_orders_items\", db_name, \"serving_zone\")",
			"metadata": {
				"trusted": true
			},
			"execution_count": 143,
			"outputs": [
				{
					"name": "stdout",
					"text": "CREATE EXTERNAL TABLE IF NOT EXISTS demo.fact_orders_items (\n  orderid string,\n  customerid string,\n  employeeid string,\n  orderdate date,\n  requireddate string,\n  shippeddate string,\n  shipvia string,\n  freight string,\n  shipname string,\n  shipaddress string,\n  shipcity string,\n  shipregion string,\n  shippostalcode string,\n  shipcountry string,\n  productid string,\n  unitprice string,\n  quantity string,\n  discount string,\n  new_year double\n)\n                        PARTITIONED BY ( \n                          `year` int, \n                          `month` int, \n                          `day` int)\n                        \nSTORED AS PARQUET\nLOCATION 's3://ijdhad-mydemo/serving_zone_pyspark/fact_orders_items/partitioned_data/'\n",
					"output_type": "stream"
				}
			]
		},
		{
			"cell_type": "code",
			"source": "",
			"metadata": {},
			"execution_count": null,
			"outputs": []
		},
		{
			"cell_type": "code",
			"source": "",
			"metadata": {},
			"execution_count": null,
			"outputs": []
		}
	]
}